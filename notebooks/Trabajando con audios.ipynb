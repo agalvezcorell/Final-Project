{
 "cells": [
  {
   "cell_type": "code",
   "execution_count": 5,
   "metadata": {},
   "outputs": [],
   "source": [
    "from pydub import AudioSegment\n",
    "import numpy as np\n",
    "from scipy.io.wavfile import read\n",
    "from scipy.fftpack import fft\n",
    "import pydub\n",
    "from scipy import signal\n",
    "import matplotlib.pyplot as plt\n",
    "import numpy as np"
   ]
  },
  {
   "cell_type": "code",
   "execution_count": 35,
   "metadata": {},
   "outputs": [],
   "source": [
    "def dataSetAudios(nombre):\n",
    "    lista = []\n",
    "    listafin = []\n",
    "    for a in range(1,4):\n",
    "        audio = AudioSegment.from_file(f'../audios/{nombre}{a}.m4a', format='mp4')\n",
    "        lista.append(audio)\n",
    "    for a in lista:\n",
    "        array = a.get_array_of_samples()\n",
    "        four = fft(array)\n",
    "        listafin.append(four)\n",
    "    \n",
    "    return listafin        "
   ]
  },
  {
   "cell_type": "code",
   "execution_count": 38,
   "metadata": {},
   "outputs": [],
   "source": [
    "af = \"Afecto\"\n",
    "ale = \"Alegria\"\n",
    "enf = \"Enfado\"\n",
    "trs = \"Tristeza\"\n",
    "afecto = dataSetAudios(af)\n",
    "alegria = dataSetAudios(ale)\n",
    "enfado = dataSetAudios(enf)\n",
    "tristeza = dataSetAudios(trs)"
   ]
  }
 ],
 "metadata": {
  "kernelspec": {
   "display_name": "Python 3",
   "language": "python",
   "name": "python3"
  },
  "language_info": {
   "codemirror_mode": {
    "name": "ipython",
    "version": 3
   },
   "file_extension": ".py",
   "mimetype": "text/x-python",
   "name": "python",
   "nbconvert_exporter": "python",
   "pygments_lexer": "ipython3",
   "version": "3.7.6"
  }
 },
 "nbformat": 4,
 "nbformat_minor": 4
}
