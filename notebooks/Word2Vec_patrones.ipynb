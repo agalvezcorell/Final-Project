{
 "cells": [
  {
   "cell_type": "code",
   "execution_count": 1,
   "metadata": {},
   "outputs": [],
   "source": [
    "import nltk\n",
    "import pandas as pd\n",
    "import numpy as np"
   ]
  },
  {
   "cell_type": "code",
   "execution_count": 2,
   "metadata": {},
   "outputs": [],
   "source": [
    "from PIL import Image"
   ]
  },
  {
   "cell_type": "code",
   "execution_count": 3,
   "metadata": {},
   "outputs": [],
   "source": [
    "#nltk.download('punkt')"
   ]
  },
  {
   "cell_type": "code",
   "execution_count": 4,
   "metadata": {},
   "outputs": [],
   "source": [
    "from nltk.tokenize import sent_tokenize, word_tokenize \n",
    "import gensim \n",
    "from gensim.models import Word2Vec \n",
    "from textblob import TextBlob"
   ]
  },
  {
   "cell_type": "code",
   "execution_count": 5,
   "metadata": {},
   "outputs": [],
   "source": [
    "#  Reads text\n",
    "sample = open(\"../input/texto.txt\") \n",
    "s = sample.read() "
   ]
  },
  {
   "cell_type": "code",
   "execution_count": 6,
   "metadata": {},
   "outputs": [],
   "source": [
    "trad = TextBlob(f\"{s}\")\n",
    "en = str(trad.translate(from_lang=\"es\",to=\"en\"))"
   ]
  },
  {
   "cell_type": "code",
   "execution_count": 7,
   "metadata": {},
   "outputs": [
    {
     "data": {
      "text/plain": [
       "\"Yesterday I saw you asleep, shining in the dark\\nAbsolutely in peace\\nYou've run so much that you don't know where you are\\nOr where you wanted to go\\nYou could with the evil that I wanted to eat you\\nYou fought like Arya Stark\\nAnd from your scar are born lysergic flowers\\nThat take me to the beyond\\n\\nYou are the hope of all mankind\\nYou are the first light\\nThe warrior woman who is going to get me out of here\\nThe magic opportunity\\n\\nYou're waking up\\nThat has gone through darkness\\nWith a supernatural peace\\nTo take me downtown\\nOf a jade nebula\\n\\nYou're like crossing through the mirror\\nHow to resurrect after seeing the tunnel\\nYou can open the sea\\nYou can cure it all\\nYou are life on Mars\\nYou are a fucking miracle\\n\\nYou're Harrison's crying guitar\\nPink Floyd's psychedelia\\nYou are the punch of John Bonham\\nYou are the voice of Thom Yorke\\n\\nYou are the glow\\nThat has gone through darkness\\nWith a supernatural peace\\nTo take me downtown\\nOf a jade nebula\\n\\nMay my eyes go through the shell of the sick earth\\nLet the black cloak of the night open and free the stars\\n\\nMay the immensity fall on me\\nthe immensity falls on me\\n\\nMay the dry river of my neck overflow in the fields of insomnia\\nand show the trail of the invisible path\\nto take me to you\\n\\nI can hear your voice\\nand remember\\nI can hear your voice\\nand remember\\n\\nMay the dead forest wake up\\nlet the dead forest wake up\\n\\nLet the howl of the wind become a song\\nI lift the leaves and dance\\nmay the branch find me in the dark\\nMay his green robe hug me\\n\\nLet the howl of the wind become a song\\nI lift the leaves and dance\\nmay the branch find me in the dark\\nMay his green robe hug me\\n\\nMay the dead forest wake up\\nlet the dead forest wake up\\n\\nI'm floating on the fabric that connects\\nThe continuous temporary space\\nThere is an extreme sweetness that does not start\\nThe soft light of your existence\\nAgain, too moved to react\\nI should have fallen asleep unintentionally\\nYou have become a bright nightfall\\nA strange kaleidoscope of impossible colors\\nDrop with me inside the dark side of the moon\\nI want you to see the whole truth\\nLet's run through this inside the prison\\nUntil our hearts explode\\nCome with me, there is a way beyond this desert\\nWe will fly in the Falcon until the Empire falls\\n\\nOpen your mind to the unknown\\nAt the root of existence\\nTo the paths that nature reveals\\n\\n\\nDo not be afraid of what you are feeling\\nWhen the psyche leaves you\\nYou're just one more piece of the entire universe\\n\\nYou are much closer to yourself\\nIn the stomach of time\\nWhere the flow of all your thoughts comes from\\n\\nLet the infinite drag us\\nLike the desert sand\\nWhere we go we don't need this body\""
      ]
     },
     "execution_count": 7,
     "metadata": {},
     "output_type": "execute_result"
    }
   ],
   "source": [
    "en"
   ]
  },
  {
   "cell_type": "code",
   "execution_count": 8,
   "metadata": {},
   "outputs": [],
   "source": [
    "# Replaces escape character with space \n",
    "f = en.replace(\"\\n\", \" \") \n",
    "  \n",
    "data = [] \n",
    "  \n",
    "# iterate through each sentence in the file \n",
    "for i in sent_tokenize(f): \n",
    "    temp = [] \n",
    "      \n",
    "    # tokenize the sentence into words \n",
    "    for j in word_tokenize(i): \n",
    "        temp.append(j.lower()) \n",
    "          \n",
    "    data.append(temp) \n",
    "# Create Skip Gram model \n",
    "model2 = gensim.models.Word2Vec(data, min_count = 1, size = 30, \n",
    "                                             window = 5, sg = 1) \n"
   ]
  },
  {
   "cell_type": "code",
   "execution_count": 9,
   "metadata": {},
   "outputs": [
    {
     "name": "stderr",
     "output_type": "stream",
     "text": [
      "/usr/local/lib/python3.7/site-packages/ipykernel_launcher.py:1: DeprecationWarning: Call to deprecated `__getitem__` (Method will be removed in 4.0.0, use self.wv.__getitem__() instead).\n",
      "  \"\"\"Entry point for launching an IPython kernel.\n"
     ]
    }
   ],
   "source": [
    "prueba = model2['earth']"
   ]
  },
  {
   "cell_type": "code",
   "execution_count": 10,
   "metadata": {},
   "outputs": [
    {
     "data": {
      "text/plain": [
       "(30,)"
      ]
     },
     "execution_count": 10,
     "metadata": {},
     "output_type": "execute_result"
    }
   ],
   "source": [
    "prueba.shape"
   ]
  },
  {
   "cell_type": "code",
   "execution_count": 11,
   "metadata": {},
   "outputs": [
    {
     "data": {
      "text/plain": [
       "array([-0.00862329,  0.00812008,  0.00130041, -0.0041394 , -0.00798857,\n",
       "       -0.01533671, -0.00562356, -0.01274933,  0.0041844 ,  0.00454563,\n",
       "       -0.01585791,  0.00061122, -0.01599782, -0.01322332,  0.00439464,\n",
       "       -0.01133921,  0.01029718,  0.01104028, -0.00222819,  0.00965242,\n",
       "       -0.00386849,  0.01294265, -0.01209119, -0.00564239, -0.016519  ,\n",
       "       -0.00571647,  0.00835573, -0.00107087, -0.00299215,  0.01644304],\n",
       "      dtype=float32)"
      ]
     },
     "execution_count": 11,
     "metadata": {},
     "output_type": "execute_result"
    }
   ],
   "source": [
    "prueba"
   ]
  },
  {
   "cell_type": "code",
   "execution_count": 12,
   "metadata": {},
   "outputs": [
    {
     "data": {
      "text/plain": [
       "-0.016518999"
      ]
     },
     "execution_count": 12,
     "metadata": {},
     "output_type": "execute_result"
    }
   ],
   "source": [
    "prueba.min()"
   ]
  },
  {
   "cell_type": "code",
   "execution_count": 13,
   "metadata": {},
   "outputs": [
    {
     "data": {
      "text/plain": [
       "0.016443038"
      ]
     },
     "execution_count": 13,
     "metadata": {},
     "output_type": "execute_result"
    }
   ],
   "source": [
    "prueba.max()"
   ]
  },
  {
   "cell_type": "code",
   "execution_count": 14,
   "metadata": {},
   "outputs": [],
   "source": [
    "normalizado = ((prueba-prueba.max())*((0-991)/(prueba.min()-prueba.max())))+991\n",
    "normalizado = normalizado.astype(int)"
   ]
  },
  {
   "cell_type": "code",
   "execution_count": 19,
   "metadata": {},
   "outputs": [],
   "source": [
    "no2 = sorted(normalizado)"
   ]
  },
  {
   "cell_type": "code",
   "execution_count": 20,
   "metadata": {},
   "outputs": [],
   "source": [
    "no3 = sorted(normalizado,key = lambda a: a%2 == 0)"
   ]
  },
  {
   "cell_type": "code",
   "execution_count": 23,
   "metadata": {},
   "outputs": [],
   "source": [
    "no4= sorted(no3)"
   ]
  },
  {
   "cell_type": "code",
   "execution_count": 24,
   "metadata": {},
   "outputs": [],
   "source": [
    "todas = [normalizado,no3,no3,no4]"
   ]
  },
  {
   "cell_type": "code",
   "execution_count": 28,
   "metadata": {},
   "outputs": [],
   "source": [
    "normalizado = [a for b in todas for a in b]"
   ]
  },
  {
   "cell_type": "code",
   "execution_count": 29,
   "metadata": {},
   "outputs": [],
   "source": [
    "normalizado = np.asarray(normalizado)\n",
    "normalizado2 = np.sort(normalizado,kind='mergesort')"
   ]
  },
  {
   "cell_type": "code",
   "execution_count": 153,
   "metadata": {},
   "outputs": [
    {
     "data": {
      "text/plain": [
       "array([  0,   0,   0,   0,  25,  25,  25,  25,  82,  82,  82,  82, 144,\n",
       "       144, 144, 144, 207, 207, 207, 207, 220, 220, 220, 220, 234, 234,\n",
       "       234, 234, 246, 246, 246, 246, 280, 280, 280, 280, 303, 303, 303,\n",
       "       303, 378, 378, 378, 378, 402, 402, 402, 402, 415, 415, 415, 415,\n",
       "       436, 436, 436, 436, 444, 444, 444, 444, 567, 567, 567, 567, 576,\n",
       "       576, 576, 576, 640, 640, 640, 640, 666, 666, 666, 666, 716, 716,\n",
       "       716, 716, 720, 720, 720, 720, 760, 760, 760, 760, 809, 809, 809,\n",
       "       809, 845, 845, 845, 845, 874, 874, 874, 874, 878, 878, 878, 878,\n",
       "       905, 905, 905, 905, 961, 961, 961, 961, 966, 966, 966, 966, 991,\n",
       "       991, 991, 991])"
      ]
     },
     "execution_count": 153,
     "metadata": {},
     "output_type": "execute_result"
    }
   ],
   "source": [
    "normalizado2"
   ]
  },
  {
   "cell_type": "code",
   "execution_count": 154,
   "metadata": {},
   "outputs": [
    {
     "data": {
      "text/plain": [
       "array([  0,  25,  82, 144, 207, 220, 234, 246, 280, 303, 378, 402, 415,\n",
       "       436, 444, 567, 576, 640, 666, 716, 720, 760, 809, 845, 874, 878,\n",
       "       905, 961, 966, 991,   0,  25,  82, 144, 207, 220, 234, 246, 280,\n",
       "       303, 378, 402, 415, 436, 444, 567, 576, 640, 666, 716, 720, 760,\n",
       "       809, 845, 874, 878, 905, 961, 966, 991,   0,  25,  82, 144, 207,\n",
       "       220, 234, 246, 280, 303, 378, 402, 415, 436, 444, 567, 576, 640,\n",
       "       666, 716, 720, 760, 809, 845, 874, 878, 905, 961, 966, 991,   0,\n",
       "        25,  82, 144, 207, 220, 234, 246, 280, 303, 378, 402, 415, 436,\n",
       "       444, 567, 576, 640, 666, 716, 720, 760, 809, 845, 874, 878, 905,\n",
       "       961, 966, 991])"
      ]
     },
     "execution_count": 154,
     "metadata": {},
     "output_type": "execute_result"
    }
   ],
   "source": [
    "normalizado"
   ]
  },
  {
   "cell_type": "code",
   "execution_count": 30,
   "metadata": {},
   "outputs": [],
   "source": [
    "normalizado2 = list(normalizado) * 750"
   ]
  },
  {
   "cell_type": "code",
   "execution_count": 31,
   "metadata": {},
   "outputs": [],
   "source": [
    "colores = pd.read_csv(\"../data/colores.csv\")"
   ]
  },
  {
   "cell_type": "code",
   "execution_count": 32,
   "metadata": {},
   "outputs": [],
   "source": [
    "def capa(x,param):\n",
    "    nuevo = []\n",
    "    param = str(f\"{param}\")\n",
    "    for a in x:\n",
    "        b = colores.iloc[a][f\"{param}\"]\n",
    "        nuevo.append(b)\n",
    "    return nuevo\n",
    "def arrayReshape(lista):\n",
    "    array = np.asarray(lista)\n",
    "    otro = array.reshape(300,300)\n",
    "    return otro"
   ]
  },
  {
   "cell_type": "code",
   "execution_count": 33,
   "metadata": {},
   "outputs": [
    {
     "data": {
      "text/plain": [
       "90000"
      ]
     },
     "execution_count": 33,
     "metadata": {},
     "output_type": "execute_result"
    }
   ],
   "source": [
    "r = \"R\"\n",
    "capaR = capa(normalizado2,r)\n",
    "len(capaR)"
   ]
  },
  {
   "cell_type": "code",
   "execution_count": 34,
   "metadata": {},
   "outputs": [],
   "source": [
    "g = \"G\"\n",
    "capaG = funCapa(normalizado2,g)"
   ]
  },
  {
   "cell_type": "code",
   "execution_count": 35,
   "metadata": {},
   "outputs": [],
   "source": [
    "b = \"B\"\n",
    "capab = funCapa(normalizado2,b)"
   ]
  },
  {
   "cell_type": "code",
   "execution_count": 36,
   "metadata": {},
   "outputs": [],
   "source": [
    "rf, gf, bf = arrayReshape(capaR), arrayReshape(capaG), arrayReshape(capab)"
   ]
  },
  {
   "cell_type": "code",
   "execution_count": 37,
   "metadata": {},
   "outputs": [],
   "source": [
    "capas = [rf,gf,bf]"
   ]
  },
  {
   "cell_type": "code",
   "execution_count": 38,
   "metadata": {},
   "outputs": [],
   "source": [
    "imagen = np.stack(capas, axis=2).astype('uint8')"
   ]
  },
  {
   "cell_type": "code",
   "execution_count": 39,
   "metadata": {},
   "outputs": [
    {
     "data": {
      "image/png": "[encoded data removed]",
      "text/plain": [
       "<PIL.Image.Image image mode=RGB size=300x300 at 0x124010250>"
      ]
     },
     "execution_count": 39,
     "metadata": {},
     "output_type": "execute_result"
    }
   ],
   "source": [
    "ayayay = Image.fromarray(imagen)\n",
    "ayayay"
   ]
  },
  {
   "cell_type": "code",
   "execution_count": 40,
   "metadata": {},
   "outputs": [],
   "source": [
    "#ayayay.save(\"prueba3.jpg\")"
   ]
  },
  {
   "cell_type": "code",
   "execution_count": null,
   "metadata": {},
   "outputs": [],
   "source": []
  }
 ],
 "metadata": {
  "kernelspec": {
   "display_name": "Python 3",
   "language": "python",
   "name": "python3"
  },
  "language_info": {
   "codemirror_mode": {
    "name": "ipython",
    "version": 3
   },
   "file_extension": ".py",
   "mimetype": "text/x-python",
   "name": "python",
   "nbconvert_exporter": "python",
   "pygments_lexer": "ipython3",
   "version": "3.7.6"
  }
 },
 "nbformat": 4,
 "nbformat_minor": 4
}
