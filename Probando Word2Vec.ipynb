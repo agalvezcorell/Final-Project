{
 "cells": [
  {
   "cell_type": "code",
   "execution_count": 54,
   "metadata": {},
   "outputs": [],
   "source": [
    "import nltk"
   ]
  },
  {
   "cell_type": "code",
   "execution_count": 55,
   "metadata": {},
   "outputs": [
    {
     "name": "stderr",
     "output_type": "stream",
     "text": [
      "[nltk_data] Downloading package punkt to\n",
      "[nltk_data]     /Users/soyungalgo/nltk_data...\n",
      "[nltk_data]   Package punkt is already up-to-date!\n"
     ]
    },
    {
     "data": {
      "text/plain": [
       "True"
      ]
     },
     "execution_count": 55,
     "metadata": {},
     "output_type": "execute_result"
    }
   ],
   "source": [
    "nltk.download('punkt')"
   ]
  },
  {
   "cell_type": "code",
   "execution_count": 56,
   "metadata": {},
   "outputs": [],
   "source": [
    "from nltk.tokenize import sent_tokenize, word_tokenize \n",
    "import gensim \n",
    "from gensim.models import Word2Vec \n",
    "from textblob import TextBlob"
   ]
  },
  {
   "cell_type": "code",
   "execution_count": 57,
   "metadata": {},
   "outputs": [],
   "source": [
    "#  Reads text\n",
    "sample = open(\"input/texto.txt\") \n",
    "s = sample.read() "
   ]
  },
  {
   "cell_type": "code",
   "execution_count": 58,
   "metadata": {},
   "outputs": [],
   "source": [
    "trad = TextBlob(f\"{s}\")\n",
    "en = str(trad.translate(from_lang=\"es\",to=\"en\"))"
   ]
  },
  {
   "cell_type": "code",
   "execution_count": 62,
   "metadata": {},
   "outputs": [
    {
     "data": {
      "text/plain": [
       "\"Yesterday I saw you asleep, shining in the dark\\nAbsolutely in peace\\nYou've run so much that you don't know where you are\\nOr where you wanted to go\\nYou could with the evil that I wanted to eat you\\nYou fought like Arya Stark\\nAnd from your scar are born lysergic flowers\\nThat take me to the beyond\\n\\nYou are the hope of all mankind\\nYou are the first light\\nThe warrior woman who is going to get me out of here\\nThe magic opportunity\\n\\nYou're waking up\\nThat has gone through darkness\\nWith a supernatural peace\\nTo take me downtown\\nOf a jade nebula\\n\\nYou're like crossing through the mirror\\nHow to resurrect after seeing the tunnel\\nYou can open the sea\\nYou can cure it all\\nYou are life on Mars\\nYou are a fucking miracle\\n\\nYou're Harrison's crying guitar\\nPink Floyd's psychedelia\\nYou are the punch of John Bonham\\nYou are the voice of Thom Yorke\\n\\nYou are the glow\\nThat has gone through darkness\\nWith a supernatural peace\\nTo take me downtown\\nOf a jade nebula\\n\\nMay my eyes go through the shell of the sick earth\\nLet the black cloak of the night open and free the stars\\n\\nMay the immensity fall on me\\nthe immensity falls on me\\n\\nMay the dry river of my neck overflow in the fields of insomnia\\nand show the trail of the invisible path\\nto take me to you\\n\\nI can hear your voice\\nand remember\\nI can hear your voice\\nand remember\\n\\nMay the dead forest wake up\\nlet the dead forest wake up\\n\\nLet the howl of the wind become a song\\nI lift the leaves and dance\\nmay the branch find me in the dark\\nMay his green robe hug me\\n\\nLet the howl of the wind become a song\\nI lift the leaves and dance\\nmay the branch find me in the dark\\nMay his green robe hug me\\n\\nMay the dead forest wake up\\nlet the dead forest wake up\\n\\nI'm floating on the fabric that connects\\nThe continuous temporary space\\nThere is an extreme sweetness that does not start\\nThe soft light of your existence\\nAgain, too moved to react\\nI should have fallen asleep unintentionally\\nYou have become a bright nightfall\\nA strange kaleidoscope of impossible colors\\nDrop with me inside the dark side of the moon\\nI want you to see the whole truth\\nLet's run through this inside the prison\\nUntil our hearts explode\\nCome with me, there is a way beyond this desert\\nWe will fly in the Falcon until the Empire falls\\n\\nOpen your mind to the unknown\\nAt the root of existence\\nTo the paths that nature reveals\\n\\n\\nDo not be afraid of what you are feeling\\nWhen the psyche leaves you\\nYou're just one more piece of the entire universe\\n\\nYou are much closer to yourself\\nIn the stomach of time\\nWhere the flow of all your thoughts comes from\\n\\nLet the infinite drag us\\nLike the desert sand\\nWhere we go we don't need this body\""
      ]
     },
     "execution_count": 62,
     "metadata": {},
     "output_type": "execute_result"
    }
   ],
   "source": [
    "en"
   ]
  },
  {
   "cell_type": "code",
   "execution_count": 105,
   "metadata": {},
   "outputs": [],
   "source": [
    "# Replaces escape character with space \n",
    "f = en.replace(\"\\n\", \" \") \n",
    "  \n",
    "data = [] \n",
    "  \n",
    "# iterate through each sentence in the file \n",
    "for i in sent_tokenize(f): \n",
    "    temp = [] \n",
    "      \n",
    "    # tokenize the sentence into words \n",
    "    for j in word_tokenize(i): \n",
    "        temp.append(j.lower()) \n",
    "          \n",
    "    data.append(temp) \n",
    "# Create Skip Gram model \n",
    "model2 = gensim.models.Word2Vec(data, min_count = 1, size = 512*384, \n",
    "                                             window = 5, sg = 1) \n"
   ]
  },
  {
   "cell_type": "code",
   "execution_count": 106,
   "metadata": {},
   "outputs": [
    {
     "name": "stderr",
     "output_type": "stream",
     "text": [
      "/usr/local/lib/python3.7/site-packages/ipykernel_launcher.py:1: DeprecationWarning: Call to deprecated `__getitem__` (Method will be removed in 4.0.0, use self.wv.__getitem__() instead).\n",
      "  \"\"\"Entry point for launching an IPython kernel.\n"
     ]
    }
   ],
   "source": [
    "prueba = model2['light']"
   ]
  },
  {
   "cell_type": "code",
   "execution_count": 109,
   "metadata": {},
   "outputs": [
    {
     "data": {
      "text/plain": [
       "(196608,)"
      ]
     },
     "execution_count": 109,
     "metadata": {},
     "output_type": "execute_result"
    }
   ],
   "source": [
    "prueba.shape"
   ]
  },
  {
   "cell_type": "code",
   "execution_count": 99,
   "metadata": {},
   "outputs": [
    {
     "data": {
      "text/plain": [
       "array([-1.00206491e-03, -1.90245308e-04,  1.71663967e-04, -1.23542122e-04,\n",
       "       -5.77856699e-05,  9.41043370e-04,  2.13115025e-04,  1.53970730e-04,\n",
       "        3.62148246e-04,  1.05688162e-03, -4.27592226e-04, -1.02175993e-03,\n",
       "       -5.77999337e-04, -7.34941685e-04, -5.94376179e-04,  1.04804605e-03,\n",
       "       -3.40174243e-04,  5.71882585e-04, -6.65255648e-04, -9.49927315e-04,\n",
       "        5.02094917e-04, -4.62130323e-04, -3.46730114e-04,  1.01809834e-04,\n",
       "        5.41991496e-04, -6.08374714e-04,  8.50590412e-04, -7.31565582e-04,\n",
       "        5.27059950e-04,  6.31698174e-04,  6.48226996e-04, -6.28755661e-04,\n",
       "       -2.81286630e-04,  1.77582683e-06,  8.44417373e-04,  8.77240789e-04,\n",
       "        4.00743564e-04,  5.05828531e-04,  1.62356791e-05,  9.55005467e-04,\n",
       "       -4.53692453e-04,  5.19036839e-04,  8.37000145e-04, -4.30103682e-04,\n",
       "        4.23578866e-04, -7.28604035e-04, -7.41336960e-04, -3.92879942e-04,\n",
       "       -7.57902599e-05,  7.97025627e-04,  1.64989207e-04, -5.13320789e-04,\n",
       "        1.98146863e-05, -2.45606207e-04,  9.76446143e-04, -3.42736050e-04,\n",
       "       -1.02521060e-03,  5.75721497e-04, -2.52716360e-04,  4.77100431e-04,\n",
       "       -9.12787218e-04,  3.83423088e-04, -3.43381107e-04,  8.10141966e-04,\n",
       "        1.01023878e-03,  4.06317762e-04,  1.01463600e-04,  7.52839900e-04,\n",
       "       -8.67465336e-04,  1.38377203e-04, -8.01873102e-04, -7.66461249e-04,\n",
       "        3.34569486e-04,  4.75537556e-04,  3.61050887e-04,  6.58440113e-04,\n",
       "       -7.15907721e-04,  5.76121383e-04, -8.27166834e-04,  4.69947787e-04,\n",
       "       -5.70050441e-04, -8.91759584e-04, -4.98221838e-04, -6.57814089e-04,\n",
       "       -1.61436401e-04, -5.54001133e-04, -1.96860856e-04, -3.61663888e-06,\n",
       "       -6.93982991e-04,  4.45956073e-04, -6.88236381e-04, -2.24680698e-04,\n",
       "       -7.85524084e-04, -6.59957761e-04, -3.65022541e-04,  3.62967723e-04,\n",
       "        6.06366550e-04, -5.67452051e-04,  2.13666310e-04,  9.45499924e-04,\n",
       "       -7.52281048e-04, -1.08686590e-03, -7.79612048e-04,  7.38148578e-04,\n",
       "       -1.02509322e-04, -1.96503956e-04, -8.94277589e-04,  4.77768743e-04,\n",
       "        1.60945099e-04, -7.16715294e-04,  1.77448994e-04, -6.11812226e-04,\n",
       "        2.74189922e-04, -2.81638815e-04,  6.74401454e-05, -7.24842015e-04,\n",
       "       -3.67112865e-04,  7.02713151e-04, -2.04096825e-04,  8.90355150e-04,\n",
       "        1.03843329e-03,  1.03476974e-04,  3.77618533e-04,  1.77322945e-04,\n",
       "       -2.13438558e-04,  2.13995678e-04,  1.31932495e-04, -6.26422872e-04,\n",
       "        8.49679869e-04,  4.75139241e-04, -7.04787613e-04,  3.69902875e-04,\n",
       "       -3.76626704e-04,  1.54953013e-04,  8.26288015e-04,  7.64248194e-04,\n",
       "       -1.07469701e-03,  9.25115193e-04,  1.39822761e-04,  6.99112134e-04,\n",
       "       -9.46104061e-04, -2.19234484e-04, -1.96498804e-04, -1.86262143e-04,\n",
       "       -7.22080120e-04, -2.14927306e-04, -3.33291900e-05, -7.19447329e-04,\n",
       "        4.53128130e-04,  4.88760881e-04, -8.90430179e-04, -2.44650291e-04,\n",
       "       -3.70274473e-04, -2.55014224e-04,  4.94591659e-04,  3.78397468e-04,\n",
       "       -6.78437238e-04, -4.35946335e-04, -1.02308544e-03,  8.03493720e-04,\n",
       "        6.35965960e-04,  2.91477103e-04,  1.97945446e-05,  3.98323638e-04,\n",
       "        9.50631977e-04, -8.88186099e-04,  7.74392160e-04,  5.28712233e-04,\n",
       "       -3.51893512e-04, -3.85224062e-04,  1.14951178e-03,  8.31305631e-04,\n",
       "        4.50287829e-04,  7.03688362e-04,  3.85186169e-04,  8.50096694e-04,\n",
       "       -5.12551051e-04, -4.23442252e-04,  7.73391512e-04, -1.32682926e-05,\n",
       "        3.78935336e-04, -1.16839365e-03, -7.83376629e-04,  1.09690905e-03,\n",
       "        2.61264155e-04,  5.51572419e-04,  3.33802018e-04, -3.69670655e-04,\n",
       "        6.15134020e-04, -6.78628043e-04,  1.01728784e-03, -4.55294561e-04,\n",
       "       -6.72176306e-04,  5.27426484e-04, -1.01363403e-03,  5.04737196e-04,\n",
       "       -5.53337275e-04, -1.38382704e-04, -4.73162654e-04,  7.88845355e-04,\n",
       "        8.69329204e-04, -8.31185680e-05,  8.28269403e-04,  5.90117008e-04,\n",
       "        1.53797766e-04, -8.09439982e-04, -5.73453435e-04, -2.03915552e-04,\n",
       "        2.56833628e-05,  6.24925597e-04,  4.17526899e-04, -5.12368395e-04,\n",
       "        5.72911347e-04, -4.55290661e-04,  9.20444261e-04, -1.19782472e-03,\n",
       "       -3.00891901e-04,  1.65828300e-04, -3.60657141e-05, -6.17954356e-04,\n",
       "        5.00534195e-04,  3.28715367e-04, -4.67459176e-06, -5.88693423e-04,\n",
       "       -9.21454455e-04, -9.01363499e-04, -9.48348315e-04,  2.33497311e-04,\n",
       "        7.77153124e-04,  7.56485038e-04, -5.43239410e-04,  3.59498750e-04,\n",
       "        8.14172265e-04,  9.57790122e-04, -1.33132009e-04, -2.65123323e-04,\n",
       "       -6.69138581e-06,  8.71324854e-04,  6.67767890e-04,  7.47860002e-04,\n",
       "        7.90302409e-04,  1.41579167e-05,  6.05954614e-04,  5.82014851e-04,\n",
       "        6.16731588e-04, -6.55395328e-04, -5.66951116e-04,  1.31319626e-04,\n",
       "       -1.06606330e-03,  6.28800888e-04,  2.32568549e-04, -8.30956385e-04,\n",
       "        1.18305572e-04,  8.28676159e-04, -6.46944158e-04,  6.41682185e-04,\n",
       "        7.44506087e-06,  6.74572075e-04, -4.88932128e-04, -3.61613726e-04,\n",
       "       -1.85901838e-04, -8.07573088e-04,  4.88490739e-04, -1.07556814e-03,\n",
       "       -3.81278514e-04,  2.94538077e-05, -9.73447386e-05,  1.16498349e-03,\n",
       "        5.99668769e-04,  2.47571734e-04, -7.71506224e-04,  6.43188105e-05,\n",
       "       -9.24479100e-04,  8.29538330e-04, -8.24432063e-04,  1.15019837e-04,\n",
       "       -2.49292061e-04, -1.74358516e-04, -8.27776035e-04,  6.45220454e-04,\n",
       "        8.97912716e-04,  1.01250689e-03,  5.27653669e-04,  1.48524472e-04,\n",
       "        3.81533551e-04,  5.87322502e-05,  4.37993964e-04,  4.98053327e-04,\n",
       "        7.07375060e-04, -7.17078568e-04,  5.52484882e-04, -4.67119011e-04,\n",
       "        6.31106741e-06,  7.30676111e-04, -5.94434561e-04, -7.07128929e-05,\n",
       "        3.18763399e-04,  8.30799399e-05, -6.98230346e-04, -4.74967150e-04,\n",
       "        9.56165721e-04,  4.44023928e-04, -9.26229695e-04,  7.64014549e-04,\n",
       "       -7.44383608e-04,  2.89017160e-04, -8.02813796e-04,  4.45056445e-04,\n",
       "        3.64226813e-04, -9.05076391e-04,  1.41043871e-04,  1.07508669e-04,\n",
       "        7.27316889e-04, -8.24457733e-04, -4.51662403e-04,  5.85710397e-04,\n",
       "       -5.25534153e-04, -1.27803423e-05,  2.58496420e-05,  7.78094109e-04,\n",
       "       -3.49413924e-04, -2.14620013e-04, -6.41181250e-04, -1.95916073e-06,\n",
       "        4.04989696e-04,  5.48989978e-04, -7.71139574e-04,  7.51671498e-04,\n",
       "       -1.80584582e-04,  8.60668486e-04, -1.38005071e-05,  1.14428264e-03,\n",
       "       -5.48807671e-04,  4.62118565e-04, -8.75945901e-04, -3.19937302e-04,\n",
       "        2.02591080e-04,  3.60361999e-04, -6.90976041e-04,  5.12466322e-05,\n",
       "        6.31039438e-04,  5.74316015e-04,  8.91323551e-04, -1.05325901e-03,\n",
       "       -2.85066693e-04, -8.56549013e-04, -7.13604968e-04,  4.34329646e-04,\n",
       "        3.16156802e-04, -1.09950826e-03,  9.79133532e-04,  2.65738840e-04,\n",
       "       -6.18539401e-04,  9.72735812e-04, -2.55335908e-04, -1.56910144e-04,\n",
       "        9.65468294e-04,  6.27568050e-04,  2.11488747e-04, -1.40487376e-04,\n",
       "        5.12807746e-04, -7.74632150e-04,  4.80510585e-04,  3.88303713e-04,\n",
       "       -4.08582855e-04,  4.71344334e-04, -6.01452193e-04, -7.75331515e-04,\n",
       "        2.73579644e-04,  1.86909820e-04, -6.06525515e-04,  7.47937069e-04,\n",
       "        6.57630269e-04, -2.17053857e-05, -9.12165735e-04, -4.03145066e-04,\n",
       "        9.43066843e-04,  5.84316847e-04,  1.08707766e-03, -2.54797487e-04,\n",
       "       -2.43790491e-04,  3.98329248e-05,  1.85579211e-05,  4.12938476e-04,\n",
       "       -4.25651786e-04,  7.82656600e-04, -5.53474354e-04, -4.89668804e-04,\n",
       "       -7.36123475e-04,  1.64480662e-05, -6.40409358e-04, -6.72687369e-04,\n",
       "       -2.67118012e-04, -7.38310860e-04, -4.13858041e-04, -2.46622745e-04,\n",
       "       -2.70778255e-04, -9.06123896e-04,  6.91839959e-04,  7.22746248e-04,\n",
       "       -8.80587788e-04, -8.16884160e-04,  7.87953322e-04, -4.48080915e-04,\n",
       "       -2.69739423e-04,  2.94492289e-04, -6.49626250e-04,  7.21838151e-04,\n",
       "        4.85943718e-04, -5.90888551e-04,  1.03910756e-03, -8.56576371e-04,\n",
       "       -1.09194033e-03, -8.59521213e-04, -8.22912843e-04, -6.12685748e-04,\n",
       "       -7.33056455e-04,  6.34997210e-04,  2.50288667e-05, -3.43148684e-04,\n",
       "       -8.83496323e-05, -7.46487000e-04, -2.80779175e-04, -5.34961990e-04,\n",
       "        3.65431828e-04, -2.52879312e-04,  3.14021017e-04, -5.55606792e-04,\n",
       "        3.59124824e-04,  4.37620038e-04, -6.38497295e-04, -8.56677871e-05,\n",
       "       -3.33517062e-04, -4.43156488e-04,  9.65313287e-04,  4.16162686e-04,\n",
       "       -9.66330990e-04,  8.99664010e-04, -7.19489763e-04,  8.90235766e-04,\n",
       "        7.48086080e-04, -1.35765149e-04,  1.07780972e-03,  8.23966227e-04,\n",
       "        4.48484847e-04,  5.29964105e-04, -8.40971115e-05, -1.04010549e-04,\n",
       "        8.09266581e-04,  7.37486291e-04, -3.80008220e-04,  1.88704551e-04,\n",
       "        6.84382103e-04, -7.09828164e-05,  7.71913619e-04, -6.27337606e-04,\n",
       "        5.17636945e-04, -2.99933483e-04,  3.42121057e-04, -4.88117890e-04,\n",
       "       -7.07246247e-04,  7.33690162e-04, -3.62943800e-04,  9.46697022e-04,\n",
       "        6.72048598e-04,  3.61340382e-04, -4.88644757e-04, -2.32025282e-04,\n",
       "       -1.57053510e-05, -6.30563940e-04,  6.25753717e-04, -3.41558683e-04,\n",
       "        1.19232154e-03,  7.82082498e-05, -6.43726162e-05, -1.47533807e-04,\n",
       "        3.67489847e-04,  7.30692991e-04,  4.33033303e-04, -3.34731711e-04,\n",
       "        1.93916843e-04,  6.80618221e-04, -3.20459076e-04,  9.82163940e-04,\n",
       "       -7.81081151e-04, -1.60415919e-04, -2.85358255e-04,  6.35432778e-04,\n",
       "        2.36916108e-04, -6.17584214e-04, -8.49459146e-04, -6.49533526e-04,\n",
       "       -8.58107407e-04, -2.23494484e-04,  4.59853618e-04, -2.83219852e-04,\n",
       "       -4.67456557e-05, -9.62096965e-05,  6.85926061e-04,  3.53655749e-04,\n",
       "        2.06318055e-06,  3.57284909e-04,  1.91173836e-04,  2.04340744e-04,\n",
       "       -9.91946203e-04, -4.62584343e-04,  1.36773160e-04,  3.49432994e-05,\n",
       "       -4.02858059e-05, -6.96589064e-04, -8.19480803e-04,  1.44090794e-04],\n",
       "      dtype=float32)"
      ]
     },
     "execution_count": 99,
     "metadata": {},
     "output_type": "execute_result"
    }
   ],
   "source": [
    "prueba"
   ]
  },
  {
   "cell_type": "code",
   "execution_count": 110,
   "metadata": {},
   "outputs": [
    {
     "data": {
      "text/plain": [
       "-3.7868358e-06"
      ]
     },
     "execution_count": 110,
     "metadata": {},
     "output_type": "execute_result"
    }
   ],
   "source": [
    "prueba.min()"
   ]
  },
  {
   "cell_type": "code",
   "execution_count": 111,
   "metadata": {},
   "outputs": [
    {
     "data": {
      "text/plain": [
       "3.877188e-06"
      ]
     },
     "execution_count": 111,
     "metadata": {},
     "output_type": "execute_result"
    }
   ],
   "source": [
    "prueba.max()"
   ]
  },
  {
   "cell_type": "code",
   "execution_count": 112,
   "metadata": {},
   "outputs": [],
   "source": [
    "normalizado = ((prueba-prueba.max())*((0-992)/(prueba.min()-prueba.max())))+992 "
   ]
  },
  {
   "cell_type": "code",
   "execution_count": 117,
   "metadata": {},
   "outputs": [],
   "source": [
    "normalizado = normalizado.astype(int)"
   ]
  },
  {
   "cell_type": "code",
   "execution_count": 118,
   "metadata": {},
   "outputs": [
    {
     "data": {
      "text/plain": [
       "array([[152, 426, 547, ..., 255, 214, 538],\n",
       "       [183, 354, 737, ..., 245, 746, 679],\n",
       "       [330, 513, 246, ..., 714, 586, 329],\n",
       "       ...,\n",
       "       [768, 771, 501, ..., 488, 739, 138],\n",
       "       [189, 794, 229, ..., 820, 672, 261],\n",
       "       [508, 747, 755, ..., 345, 443, 356]])"
      ]
     },
     "execution_count": 118,
     "metadata": {},
     "output_type": "execute_result"
    }
   ],
   "source": [
    "normalizado.reshape(384,512)"
   ]
  },
  {
   "cell_type": "code",
   "execution_count": null,
   "metadata": {},
   "outputs": [],
   "source": []
  }
 ],
 "metadata": {
  "kernelspec": {
   "display_name": "Python 3",
   "language": "python",
   "name": "python3"
  },
  "language_info": {
   "codemirror_mode": {
    "name": "ipython",
    "version": 3
   },
   "file_extension": ".py",
   "mimetype": "text/x-python",
   "name": "python",
   "nbconvert_exporter": "python",
   "pygments_lexer": "ipython3",
   "version": "3.7.6"
  }
 },
 "nbformat": 4,
 "nbformat_minor": 4
}
