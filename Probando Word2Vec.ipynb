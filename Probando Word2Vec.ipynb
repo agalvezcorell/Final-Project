{
 "cells": [
  {
   "cell_type": "code",
   "execution_count": 1,
   "metadata": {},
   "outputs": [],
   "source": [
    "import nltk"
   ]
  },
  {
   "cell_type": "code",
   "execution_count": 2,
   "metadata": {},
   "outputs": [
    {
     "name": "stderr",
     "output_type": "stream",
     "text": [
      "[nltk_data] Downloading package punkt to\n",
      "[nltk_data]     /Users/soyungalgo/nltk_data...\n",
      "[nltk_data]   Package punkt is already up-to-date!\n"
     ]
    },
    {
     "data": {
      "text/plain": [
       "True"
      ]
     },
     "execution_count": 2,
     "metadata": {},
     "output_type": "execute_result"
    }
   ],
   "source": [
    "nltk.download('punkt')"
   ]
  },
  {
   "cell_type": "code",
   "execution_count": 4,
   "metadata": {},
   "outputs": [],
   "source": [
    "from nltk.tokenize import sent_tokenize, word_tokenize \n",
    "import gensim \n",
    "from gensim.models import Word2Vec \n",
    "from textblob import TextBlob"
   ]
  },
  {
   "cell_type": "code",
   "execution_count": 1,
   "metadata": {},
   "outputs": [],
   "source": [
    "#  Reads text\n",
    "sample = open(\"input/texto.txt\") \n",
    "s = sample.read() "
   ]
  },
  {
   "cell_type": "code",
   "execution_count": 19,
   "metadata": {},
   "outputs": [
    {
     "data": {
      "text/plain": [
       "\"Yesterday I saw you asleep, shining in the dark\\nAbsolutely in peace\\nYou've run so much that you don't know where you are\\nOr where you wanted to go\\nYou could with the evil that I wanted to eat you\\nYou fought like Arya Stark\\nAnd from your scar are born lysergic flowers\\nThat take me to the beyond\\n\\nYou are the hope of all mankind\\nYou are the first light\\nThe warrior woman who is going to get me out of here\\nThe magic opportunity\\n\\nYou're waking up\\nThat has gone through darkness\\nWith a supernatural peace\\nTo take me downtown\\nOf a jade nebula\\n\\nYou're like crossing through the mirror\\nHow to resurrect after seeing the tunnel\\nYou can open the sea\\nYou can cure it all\\nYou are life on Mars\\nYou are a fucking miracle\\n\\nYou're Harrison's crying guitar\\nPink Floyd's psychedelia\\nYou are the punch of John Bonham\\nYou are the voice of Thom Yorke\\n\\nYou are the glow\\nThat has gone through darkness\\nWith a supernatural peace\\nTo take me downtown\\nOf a jade nebula\\n\\nMay my eyes go through the shell of the sick earth\\nLet the black cloak of the night open and free the stars\\n\\nMay the immensity fall on me\\nthe immensity falls on me\\n\\nMay the dry river of my neck overflow in the fields of insomnia\\nand show the trail of the invisible path\\nto take me to you\\n\\nI can hear your voice\\nand remember\\nI can hear your voice\\nand remember\\n\\nMay the dead forest wake up\\nlet the dead forest wake up\\n\\nLet the howl of the wind become a song\\nI lift the leaves and dance\\nmay the branch find me in the dark\\nMay his green robe hug me\\n\\nLet the howl of the wind become a song\\nI lift the leaves and dance\\nmay the branch find me in the dark\\nMay his green robe hug me\\n\\nMay the dead forest wake up\\nlet the dead forest wake up\\n\\nI'm floating on the fabric that connects\\nThe continuous temporary space\\nThere is an extreme sweetness that does not start\\nThe soft light of your existence\\nAgain, too moved to react\\nI should have fallen asleep unintentionally\\nYou have become a bright nightfall\\nA strange kaleidoscope of impossible colors\\nDrop with me inside the dark side of the moon\\nI want you to see the whole truth\\nLet's run through this inside the prison\\nUntil our hearts explode\\nCome with me, there is a way beyond this desert\\nWe will fly in the Falcon until the Empire falls\""
      ]
     },
     "execution_count": 19,
     "metadata": {},
     "output_type": "execute_result"
    }
   ],
   "source": [
    "trad = TextBlob(f\"{s}\")\n",
    "en = str(trad.translate(from_lang=\"es\",to=\"en\"))\n",
    "en"
   ]
  },
  {
   "cell_type": "code",
   "execution_count": 44,
   "metadata": {},
   "outputs": [],
   "source": [
    "# Replaces escape character with space \n",
    "f = en.replace(\"\\n\", \" \") \n",
    "  \n",
    "data = [] \n",
    "  \n",
    "# iterate through each sentence in the file \n",
    "for i in sent_tokenize(f): \n",
    "    temp = [] \n",
    "      \n",
    "    # tokenize the sentence into words \n",
    "    for j in word_tokenize(i): \n",
    "        temp.append(j.lower()) \n",
    "          \n",
    "    data.append(temp) \n",
    "# Create Skip Gram model \n",
    "model2 = gensim.models.Word2Vec(data, min_count = 1, size = 384, \n",
    "                                             window = 5, sg = 1) \n"
   ]
  },
  {
   "cell_type": "code",
   "execution_count": 45,
   "metadata": {},
   "outputs": [
    {
     "name": "stderr",
     "output_type": "stream",
     "text": [
      "/usr/local/lib/python3.7/site-packages/ipykernel_launcher.py:1: DeprecationWarning: Call to deprecated `__getitem__` (Method will be removed in 4.0.0, use self.wv.__getitem__() instead).\n",
      "  \"\"\"Entry point for launching an IPython kernel.\n"
     ]
    }
   ],
   "source": [
    "prueba = model2['falls']"
   ]
  },
  {
   "cell_type": "code",
   "execution_count": 47,
   "metadata": {},
   "outputs": [
    {
     "data": {
      "text/plain": [
       "(384,)"
      ]
     },
     "execution_count": 47,
     "metadata": {},
     "output_type": "execute_result"
    }
   ],
   "source": [
    "prueba.shape"
   ]
  },
  {
   "cell_type": "code",
   "execution_count": null,
   "metadata": {},
   "outputs": [],
   "source": []
  },
  {
   "cell_type": "code",
   "execution_count": null,
   "metadata": {},
   "outputs": [],
   "source": []
  },
  {
   "cell_type": "code",
   "execution_count": null,
   "metadata": {},
   "outputs": [],
   "source": []
  },
  {
   "cell_type": "code",
   "execution_count": null,
   "metadata": {},
   "outputs": [],
   "source": []
  },
  {
   "cell_type": "code",
   "execution_count": null,
   "metadata": {},
   "outputs": [],
   "source": []
  },
  {
   "cell_type": "code",
   "execution_count": null,
   "metadata": {},
   "outputs": [],
   "source": []
  }
 ],
 "metadata": {
  "kernelspec": {
   "display_name": "Python 3",
   "language": "python",
   "name": "python3"
  },
  "language_info": {
   "codemirror_mode": {
    "name": "ipython",
    "version": 3
   },
   "file_extension": ".py",
   "mimetype": "text/x-python",
   "name": "python",
   "nbconvert_exporter": "python",
   "pygments_lexer": "ipython3",
   "version": "3.7.6"
  }
 },
 "nbformat": 4,
 "nbformat_minor": 4
}
